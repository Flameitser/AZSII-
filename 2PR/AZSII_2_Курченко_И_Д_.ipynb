{
  "cells": [
    {
      "cell_type": "markdown",
      "source": [
        "**Практическая работа №2**\n",
        "\n",
        "\n",
        "\n",
        "Выполнил студент группы ББМО-02-23 Курченко Иван.\n",
        "\n",
        "\n",
        "\n",
        "---\n",
        "\n",
        "\n",
        "\n",
        "# *Шаг 1: Импорт библиотек и загрузка модели*\n"
      ],
      "metadata": {
        "id": "5ClSe3F2mn9E"
      }
    },
    {
      "cell_type": "code",
      "source": [
        "from tensorflow.keras import layers, models\n",
        "\n",
        "# Создание простой модели LeNet для MNIST\n",
        "def create_lenet_model():\n",
        "    model = models.Sequential()\n",
        "    model.add(layers.Conv2D(32, (3, 3), activation='relu', input_shape=(28, 28, 1)))\n",
        "    model.add(layers.MaxPooling2D((2, 2)))\n",
        "    model.add(layers.Conv2D(64, (3, 3), activation='relu'))\n",
        "    model.add(layers.MaxPooling2D((2, 2)))\n",
        "    model.add(layers.Conv2D(64, (3, 3), activation='relu'))\n",
        "\n",
        "    model.add(layers.Flatten())\n",
        "    model.add(layers.Dense(64, activation='relu'))\n",
        "    model.add(layers.Dense(10, activation='softmax'))\n",
        "\n",
        "    return model\n",
        "\n",
        "# Создание и компиляция модели\n",
        "model = create_lenet_model()\n",
        "model.compile(optimizer='adam',\n",
        "              loss='categorical_crossentropy',\n",
        "              metrics=['accuracy'])\n",
        "\n",
        "# Преобразование данных для обучения\n",
        "train_images = test_images.reshape((-1, 28, 28, 1))  # Изменение формы для Conv2D\n",
        "test_images = test_images.reshape((-1, 28, 28, 1))\n",
        "\n",
        "# Обучение модели на MNIST данных\n",
        "model.fit(train_images, test_labels, epochs=5, batch_size=64, validation_data=(test_images, test_labels))\n",
        "\n",
        "# Сохранение обученной модели\n",
        "model.save('mnist_model.h5')"
      ],
      "metadata": {
        "id": "ZyEClLzgm4Sx",
        "outputId": "97989706-04f7-4bcb-97df-14848fc1be3e",
        "colab": {
          "base_uri": "https://localhost:8080/"
        }
      },
      "execution_count": null,
      "outputs": [
        {
          "output_type": "stream",
          "name": "stdout",
          "text": [
            "Epoch 1/5\n",
            "\u001b[1m157/157\u001b[0m \u001b[32m━━━━━━━━━━━━━━━━━━━━\u001b[0m\u001b[37m\u001b[0m \u001b[1m15s\u001b[0m 81ms/step - accuracy: 0.7065 - loss: 1.0455 - val_accuracy: 0.9118 - val_loss: 0.2716\n",
            "Epoch 2/5\n",
            "\u001b[1m157/157\u001b[0m \u001b[32m━━━━━━━━━━━━━━━━━━━━\u001b[0m\u001b[37m\u001b[0m \u001b[1m12s\u001b[0m 76ms/step - accuracy: 0.9508 - loss: 0.1613 - val_accuracy: 0.9791 - val_loss: 0.0749\n",
            "Epoch 3/5\n",
            "\u001b[1m157/157\u001b[0m \u001b[32m━━━━━━━━━━━━━━━━━━━━\u001b[0m\u001b[37m\u001b[0m \u001b[1m20s\u001b[0m 73ms/step - accuracy: 0.9786 - loss: 0.0711 - val_accuracy: 0.9862 - val_loss: 0.0478\n",
            "Epoch 4/5\n",
            "\u001b[1m157/157\u001b[0m \u001b[32m━━━━━━━━━━━━━━━━━━━━\u001b[0m\u001b[37m\u001b[0m \u001b[1m12s\u001b[0m 75ms/step - accuracy: 0.9864 - loss: 0.0456 - val_accuracy: 0.9863 - val_loss: 0.0446\n",
            "Epoch 5/5\n",
            "\u001b[1m157/157\u001b[0m \u001b[32m━━━━━━━━━━━━━━━━━━━━\u001b[0m\u001b[37m\u001b[0m \u001b[1m20s\u001b[0m 74ms/step - accuracy: 0.9886 - loss: 0.0389 - val_accuracy: 0.9882 - val_loss: 0.0345\n"
          ]
        },
        {
          "output_type": "stream",
          "name": "stderr",
          "text": [
            "WARNING:absl:You are saving your model as an HDF5 file via `model.save()` or `keras.saving.save_model(model)`. This file format is considered legacy. We recommend using instead the native Keras format, e.g. `model.save('my_model.keras')` or `keras.saving.save_model(model, 'my_model.keras')`. \n"
          ]
        }
      ]
    },
    {
      "cell_type": "markdown",
      "source": [
        "# *Шаг 2: Реализация FGSM-атаки*"
      ],
      "metadata": {
        "id": "7M2kcR8xpfMm"
      }
    },
    {
      "cell_type": "code",
      "source": [
        "# Функция для реализации FGSM-атаки\n",
        "def fgsm_attack(image, epsilon, gradient):\n",
        "    # Применение знака градиента к изображению для создания возмущений\n",
        "    perturbed_image = image + epsilon * np.sign(gradient)\n",
        "    # Ограничение значений изображения в пределах допустимого диапазона [0,1]\n",
        "    perturbed_image = np.clip(perturbed_image, 0, 1)\n",
        "    return perturbed_image\n",
        "\n",
        "# Функция для генерации противоречивого примера\n",
        "def generate_adversarial_example(model, image, label, epsilon):\n",
        "    image = tf.convert_to_tensor(image.reshape((1, 28, 28, 1)))\n",
        "\n",
        "    if len(label.shape) > 1 and label.shape[1] > 1:\n",
        "        label = np.argmax(label)\n",
        "    label = tf.convert_to_tensor(label)\n",
        "\n",
        "    with tf.GradientTape() as tape:\n",
        "        tape.watch(image)\n",
        "        prediction = model(image)\n",
        "        loss = tf.keras.losses.categorical_crossentropy(label[None], prediction)\n",
        "\n",
        "    gradient = tape.gradient(loss, image)\n",
        "\n",
        "    # Применение FGSM-атаки\n",
        "    adversarial_image = fgsm_attack(image.numpy(), epsilon, gradient.numpy())\n",
        "\n",
        "    return np.reshape(adversarial_image, (28, 28, 1))\n",
        "\n",
        "# Пример использования FGSM\n",
        "epsilon = 0.1\n",
        "adversarial_example = generate_adversarial_example(model, test_images[0], test_labels[0], epsilon)"
      ],
      "metadata": {
        "id": "eUkvQan5pe64"
      },
      "execution_count": null,
      "outputs": []
    },
    {
      "cell_type": "markdown",
      "source": [
        "# *Шаг 3: Визуализация результатов*"
      ],
      "metadata": {
        "id": "FPoSfclPpxou"
      }
    },
    {
      "cell_type": "code",
      "source": [
        "# Отображение оригинального и противоречивого изображений\n",
        "plt.figure()\n",
        "plt.subplot(1, 2, 1)\n",
        "plt.title(\"Оригинальное изображение\")\n",
        "plt.imshow(test_images[0], cmap=\"gray\")\n",
        "\n",
        "plt.subplot(1, 2, 2)\n",
        "plt.title(\"Противоречивое изображение\")\n",
        "plt.imshow(adversarial_example.reshape(28, 28), cmap=\"gray\")\n",
        "plt.show()"
      ],
      "metadata": {
        "id": "0blQdED8p4Ht",
        "outputId": "b925e2f5-d837-4697-d115-bba87a041be6",
        "colab": {
          "base_uri": "https://localhost:8080/",
          "height": 308
        }
      },
      "execution_count": null,
      "outputs": [
        {
          "output_type": "display_data",
          "data": {
            "text/plain": [
              "<Figure size 640x480 with 2 Axes>"
            ],
            "image/png": "[encoded data removed]"
          },
          "metadata": {}
        }
      ]
    },
    {
      "cell_type": "markdown",
      "source": [
        "# *Шаг 4: Оценка модели на противоречивых примерах*"
      ],
      "metadata": {
        "id": "phIfjJrPp7Qk"
      }
    },
    {
      "cell_type": "code",
      "source": [
        "import numpy as np\n",
        "import tensorflow as tf\n",
        "from tqdm import tqdm  # Для прогресса\n",
        "\n",
        "# Функция для генерации противоречивых примеров с прогрессом\n",
        "def generate_adversarial_dataset(model, images, labels, epsilon, num_samples=100):\n",
        "    adversarial_images = []\n",
        "\n",
        "    # Ограничим выборку до num_samples для ускорения\n",
        "    if num_samples > len(images):\n",
        "        num_samples = len(images)\n",
        "\n",
        "    print(f\"Генерация {num_samples} противоречивых примеров с FGSM атакой...\")\n",
        "\n",
        "    for i in tqdm(range(num_samples)):\n",
        "        adv_image = generate_adversarial_example(model, images[i], labels[i], epsilon)\n",
        "        adversarial_images.append(adv_image.reshape(28, 28))\n",
        "\n",
        "    adversarial_images = np.array(adversarial_images)\n",
        "    return adversarial_images\n",
        "\n",
        "# Установка параметров\n",
        "epsilon = 0.1  # Величина шума\n",
        "num_samples = 100  # Выбираем количество примеров для генерации\n",
        "\n",
        "# Генерация противоречивых примеров\n",
        "adversarial_images = generate_adversarial_dataset(model, test_images, test_labels, epsilon, num_samples)\n",
        "\n",
        "# Преобразование противоречивых изображений для использования в модели\n",
        "adversarial_images_reshaped = adversarial_images.reshape(num_samples, 28, 28, 1)\n",
        "\n",
        "# Оценка модели на чистых данных\n",
        "test_loss, test_acc = model.evaluate(test_images[:num_samples], test_labels[:num_samples])\n",
        "print(f'Точность на чистых изображениях: {test_acc}')\n",
        "\n",
        "# Оценка модели на противоречивых примерах\n",
        "adversarial_loss, adversarial_acc = model.evaluate(adversarial_images_reshaped, test_labels[:num_samples])\n",
        "\n",
        "# Вывод результатов\n",
        "print(f'Точность на чистых изображениях: {test_acc}')\n",
        "print(f'Точность на противоречивых примерах: {adversarial_acc}')"
      ],
      "metadata": {
        "id": "pzpk5zLVqdvD",
        "outputId": "13b95ef6-ea55-4ad9-8fdc-a43f58087be2",
        "colab": {
          "base_uri": "https://localhost:8080/"
        }
      },
      "execution_count": null,
      "outputs": [
        {
          "output_type": "stream",
          "name": "stdout",
          "text": [
            "Генерация 100 противоречивых примеров с FGSM атакой...\n"
          ]
        },
        {
          "output_type": "stream",
          "name": "stderr",
          "text": [
            "100%|██████████| 100/100 [00:02<00:00, 42.12it/s]\n"
          ]
        },
        {
          "output_type": "stream",
          "name": "stdout",
          "text": [
            "\u001b[1m4/4\u001b[0m \u001b[32m━━━━━━━━━━━━━━━━━━━━\u001b[0m\u001b[37m\u001b[0m \u001b[1m0s\u001b[0m 9ms/step - accuracy: 0.9908 - loss: 0.0419 \n",
            "Точность на чистых изображениях: 0.9900000095367432\n",
            "\u001b[1m4/4\u001b[0m \u001b[32m━━━━━━━━━━━━━━━━━━━━\u001b[0m\u001b[37m\u001b[0m \u001b[1m0s\u001b[0m 8ms/step - accuracy: 0.8436 - loss: 0.5151 \n",
            "Точность на чистых изображениях: 0.9900000095367432\n",
            "Точность на противоречивых примерах: 0.8199999928474426\n"
          ]
        }
      ]
    }
  ],
  "metadata": {
    "colab": {
      "toc_visible": true,
      "provenance": []
    },
    "kernelspec": {
      "display_name": "Python 3",
      "name": "python3"
    }
  },
  "nbformat": 4,
  "nbformat_minor": 0
}