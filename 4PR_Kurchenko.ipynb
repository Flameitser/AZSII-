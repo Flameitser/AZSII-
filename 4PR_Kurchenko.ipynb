{
  "nbformat": 4,
  "nbformat_minor": 0,
  "metadata": {
    "colab": {
      "provenance": []
    },
    "kernelspec": {
      "name": "python3",
      "display_name": "Python 3"
    },
    "language_info": {
      "name": "python"
    }
  },
  "cells": [
    {
      "cell_type": "markdown",
      "source": [
        "# **Практика 4: Атака DeepFool на модели ИИ**\n",
        "\n",
        "Выполнил студент группы **ББМО-02-23 Курченко Иван Дмитриевич**"
      ],
      "metadata": {
        "id": "lto2lXOFn4_A"
      }
    },
    {
      "cell_type": "markdown",
      "source": [
        "##**Шаги выполнения:**"
      ],
      "metadata": {
        "id": "Fxz0ZEVUoofc"
      }
    },
    {
      "cell_type": "code",
      "source": [
        "from google.colab import drive\n",
        "drive.mount('/content/drive')"
      ],
      "metadata": {
        "colab": {
          "base_uri": "https://localhost:8080/"
        },
        "id": "aaTp7DqiRwQF",
        "outputId": "041d38b6-040d-435d-c71f-31f398f16ac7"
      },
      "execution_count": 12,
      "outputs": [
        {
          "output_type": "stream",
          "name": "stdout",
          "text": [
            "Drive already mounted at /content/drive; to attempt to forcibly remount, call drive.mount(\"/content/drive\", force_remount=True).\n"
          ]
        }
      ]
    },
    {
      "cell_type": "markdown",
      "source": [
        "###**Шаг 1: Загрузка обученной модели и данных MNIST**"
      ],
      "metadata": {
        "id": "TE4uE1Gjq0oE"
      }
    },
    {
      "cell_type": "code",
      "source": [
        "import tensorflow as tf\n",
        "from tensorflow.keras.datasets import mnist\n",
        "from tensorflow.keras.utils import to_categorical\n",
        "# Загрузка тестовых данных MNIST:\n",
        "(_, _), (test_images, test_labels) = mnist.load_data()\n",
        "# Нормализация данных\n",
        "test_images = test_images / 255.0\n",
        "# Преобразование меток в формат one-hot:\n",
        "test_labels = to_categorical(test_labels, num_classes=10)\n",
        "# Загрузка обученной модели:\n",
        "model = tf.keras.models.load_model('/content/drive/MyDrive/mnist_model.h5')\n",
        "# Проверка точности модели на обычных данных:\n",
        "test_loss, test_acc = model.evaluate(test_images, test_labels)\n",
        "print(f'Test accuracy on clean images: {test_acc}')"
      ],
      "metadata": {
        "colab": {
          "base_uri": "https://localhost:8080/"
        },
        "id": "Nr_WY-bPq_cz",
        "outputId": "984b9770-2bef-4bc5-d9db-014d87173e14"
      },
      "execution_count": 13,
      "outputs": [
        {
          "output_type": "stream",
          "name": "stderr",
          "text": [
            "WARNING:absl:Compiled the loaded model, but the compiled metrics have yet to be built. `model.compile_metrics` will be empty until you train or evaluate the model.\n"
          ]
        },
        {
          "output_type": "stream",
          "name": "stdout",
          "text": [
            "\u001b[1m313/313\u001b[0m \u001b[32m━━━━━━━━━━━━━━━━━━━━\u001b[0m\u001b[37m\u001b[0m \u001b[1m1s\u001b[0m 1ms/step - accuracy: 0.9752 - loss: 0.0817\n",
            "Test accuracy on clean images: 0.9778000116348267\n"
          ]
        }
      ]
    },
    {
      "cell_type": "markdown",
      "source": [
        "### Шаг 2: Реализация атаки DeepFool с использованием Foolbox"
      ],
      "metadata": {
        "id": "EQf0vuDFrvp_"
      }
    },
    {
      "cell_type": "markdown",
      "source": [
        "Установка Foolbox:"
      ],
      "metadata": {
        "id": "HQ6P79MOsMif"
      }
    },
    {
      "cell_type": "code",
      "source": [
        "!pip install foolbox"
      ],
      "metadata": {
        "colab": {
          "base_uri": "https://localhost:8080/"
        },
        "id": "BE6pCxjYr8WP",
        "outputId": "e4bb83da-765f-47c4-e113-4292a589f7ee"
      },
      "execution_count": 14,
      "outputs": [
        {
          "output_type": "stream",
          "name": "stdout",
          "text": [
            "Requirement already satisfied: foolbox in /usr/local/lib/python3.10/dist-packages (3.3.4)\n",
            "Requirement already satisfied: numpy in /usr/local/lib/python3.10/dist-packages (from foolbox) (1.26.4)\n",
            "Requirement already satisfied: scipy in /usr/local/lib/python3.10/dist-packages (from foolbox) (1.13.1)\n",
            "Requirement already satisfied: setuptools in /usr/local/lib/python3.10/dist-packages (from foolbox) (75.1.0)\n",
            "Requirement already satisfied: eagerpy>=0.30.0 in /usr/local/lib/python3.10/dist-packages (from foolbox) (0.30.0)\n",
            "Requirement already satisfied: GitPython>=3.0.7 in /usr/local/lib/python3.10/dist-packages (from foolbox) (3.1.43)\n",
            "Requirement already satisfied: typing-extensions>=3.7.4.1 in /usr/local/lib/python3.10/dist-packages (from foolbox) (4.12.2)\n",
            "Requirement already satisfied: requests>=2.24.0 in /usr/local/lib/python3.10/dist-packages (from foolbox) (2.32.3)\n",
            "Requirement already satisfied: gitdb<5,>=4.0.1 in /usr/local/lib/python3.10/dist-packages (from GitPython>=3.0.7->foolbox) (4.0.11)\n",
            "Requirement already satisfied: charset-normalizer<4,>=2 in /usr/local/lib/python3.10/dist-packages (from requests>=2.24.0->foolbox) (3.4.0)\n",
            "Requirement already satisfied: idna<4,>=2.5 in /usr/local/lib/python3.10/dist-packages (from requests>=2.24.0->foolbox) (3.10)\n",
            "Requirement already satisfied: urllib3<3,>=1.21.1 in /usr/local/lib/python3.10/dist-packages (from requests>=2.24.0->foolbox) (2.2.3)\n",
            "Requirement already satisfied: certifi>=2017.4.17 in /usr/local/lib/python3.10/dist-packages (from requests>=2.24.0->foolbox) (2024.8.30)\n",
            "Requirement already satisfied: smmap<6,>=3.0.1 in /usr/local/lib/python3.10/dist-packages (from gitdb<5,>=4.0.1->GitPython>=3.0.7->foolbox) (5.0.1)\n"
          ]
        }
      ]
    },
    {
      "cell_type": "markdown",
      "source": [
        "Реализация атаки DeepFool:"
      ],
      "metadata": {
        "id": "yr2PUKSWsUur"
      }
    },
    {
      "cell_type": "markdown",
      "source": [
        "Атака происходит на последние 3 изображения"
      ],
      "metadata": {
        "id": "i5TrdxeN2Iin"
      }
    },
    {
      "cell_type": "code",
      "source": [
        "import foolbox as fb\n",
        "import numpy as np\n",
        "import matplotlib.pyplot as plt\n",
        "import tensorflow as tf  # Убедитесь, что TensorFlow импортирован\n",
        "\n",
        "# Инициализация Foolbox модели\n",
        "fmodel = fb.TensorFlowModel(model, bounds=(-1, 1))\n",
        "\n",
        "# Создание атаки DeepFool\n",
        "attack = fb.attacks.L2DeepFoolAttack(steps=100)\n",
        "\n",
        "# Количество изображений для атаки\n",
        "num_images = 3\n",
        "\n",
        "# Начать выбор с конца набора данных\n",
        "start_index = len(test_images) - num_images\n",
        "\n",
        "# Создание подграфиков для отображения результатов\n",
        "plt.figure(figsize=(15, 7))\n",
        "\n",
        "for i in range(num_images):\n",
        "    # Выбор изображения для атаки\n",
        "    image_index = start_index + i\n",
        "    image = tf.convert_to_tensor(test_images[image_index], dtype=tf.float32)[None, ...]\n",
        "    label = np.argmax(test_labels[image_index])\n",
        "    label = tf.convert_to_tensor(label, dtype=tf.int64)\n",
        "\n",
        "    # Выполнение атаки\n",
        "    adversarial_image, _, success = attack(fmodel, image, label[None], epsilons=0.01)\n",
        "\n",
        "    # Отображение оригинального и противоречивого изображений\n",
        "    plt.subplot(2, num_images, i + 1)\n",
        "    plt.title(f\"Оригинальное изображение {image_index+1}\")\n",
        "    plt.imshow(image[0].numpy(), cmap=\"gray\")\n",
        "    plt.axis('off')\n",
        "\n",
        "    plt.subplot(2, num_images, num_images + i + 1)\n",
        "    plt.title(f\"Противоречивое изображение {image_index+1}\")\n",
        "    plt.imshow(adversarial_image[0].numpy(), cmap=\"gray\")\n",
        "    plt.axis('off')\n",
        "\n",
        "plt.tight_layout()\n",
        "plt.show()"
      ],
      "metadata": {
        "colab": {
          "base_uri": "https://localhost:8080/",
          "height": 707
        },
        "id": "WiqkavV61UVx",
        "outputId": "3787cf73-284c-45d9-c550-c7221146050b"
      },
      "execution_count": 15,
      "outputs": [
        {
          "output_type": "display_data",
          "data": {
            "text/plain": [
              "<Figure size 1500x700 with 6 Axes>"
            ],
            "image/png": "[encoded data removed]"
          },
          "metadata": {}
        }
      ]
    },
    {
      "cell_type": "markdown",
      "source": [
        "### Шаг 3: Оценка модели на противоречивых примерах"
      ],
      "metadata": {
        "id": "C5PUwzGpr3gt"
      }
    },
    {
      "cell_type": "code",
      "source": [
        "import tensorflow as tf\n",
        "import numpy as np\n",
        "\n",
        "batch_size = 32\n",
        "num_batches = len(test_images) // batch_size + (1 if len(test_images) % batch_size != 0 else 0)\n",
        "adversarial_images = []\n",
        "adversarial_labels = []\n",
        "\n",
        "for batch_idx in range(num_batches):\n",
        "    start_idx = batch_idx * batch_size\n",
        "    end_idx = min(start_idx + batch_size, len(test_images))\n",
        "\n",
        "    images_batch = tf.convert_to_tensor(test_images[start_idx:end_idx], dtype=tf.float32)\n",
        "    labels_batch = np.argmax(test_labels[start_idx:end_idx], axis=1)\n",
        "    labels_batch = tf.convert_to_tensor(labels_batch, dtype=tf.int64)\n",
        "\n",
        "\n",
        "    advs_batch, _, success_batch = attack(fmodel, images_batch, labels_batch, epsilons=0.01)\n",
        "\n",
        "\n",
        "    if tf.reduce_any(success_batch):\n",
        "        adversarial_images.append(advs_batch)\n",
        "        adversarial_labels.append(labels_batch)\n",
        "\n",
        "adversarial_images = tf.concat(adversarial_images, axis=0)\n",
        "adversarial_labels = tf.concat(adversarial_labels, axis=0)\n",
        "\n",
        "num_classes = model.output_shape[-1]\n",
        "adversarial_labels = tf.one_hot(adversarial_labels, depth=num_classes)\n",
        "\n",
        "\n",
        "adversarial_loss, adversarial_acc = model.evaluate(adversarial_images, adversarial_labels)\n",
        "print(f'Accuracy on adversarial examples (DeepFool): {adversarial_acc}')\n"
      ],
      "metadata": {
        "colab": {
          "base_uri": "https://localhost:8080/"
        },
        "id": "EhE2q2ke23dk",
        "outputId": "f7c28672-5d90-4d88-c0d7-0dc2bd2718b0"
      },
      "execution_count": 16,
      "outputs": [
        {
          "output_type": "stream",
          "name": "stdout",
          "text": [
            "\u001b[1m152/152\u001b[0m \u001b[32m━━━━━━━━━━━━━━━━━━━━\u001b[0m\u001b[37m\u001b[0m \u001b[1m0s\u001b[0m 3ms/step - accuracy: 0.0000e+00 - loss: 137.9225\n",
            "Accuracy on adversarial examples (DeepFool): 0.0\n"
          ]
        }
      ]
    },
    {
      "cell_type": "markdown",
      "source": [
        "###Сравнение результатов"
      ],
      "metadata": {
        "id": "rvCfk0Lgr6jR"
      }
    },
    {
      "cell_type": "markdown",
      "source": [
        "Точность модели после атаки (accuracy): 0.0000 (0%)\n",
        "Это означает, что модель не смогла правильно классифицировать ни одно из атакованных изображений. Все они были успешно изменены атакой так, что модель выдала неверный предсказанный класс.\n",
        "\n",
        "Потери модели (loss): 137.9225\n",
        "Увеличение значения функции потерь указывает на значительное отклонение выхода модели от правильных ответов. Атака DeepFool эффективно исказила входные данные, что привело к ухудшению качества классификации."
      ],
      "metadata": {
        "id": "Q2IPAcHe7Pwi"
      }
    }
  ]
}