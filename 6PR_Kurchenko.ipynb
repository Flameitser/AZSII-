{
  "nbformat": 4,
  "nbformat_minor": 0,
  "metadata": {
    "colab": {
      "provenance": []
    },
    "kernelspec": {
      "name": "python3",
      "display_name": "Python 3"
    },
    "language_info": {
      "name": "python"
    }
  },
  "cells": [
    {
      "cell_type": "markdown",
      "source": [
        "# **Практика 6: Атака по переносу (Transfer Attack) на модели ИИ**"
      ],
      "metadata": {
        "id": "KuDFkN1YJZ_S"
      }
    },
    {
      "cell_type": "markdown",
      "source": [
        "Выполнил студент 2 курса группы: **ББМО-02-23**\n",
        "\n",
        "ФИО: **Курченко Иван Дмитриевич**"
      ],
      "metadata": {
        "id": "JqZIaM6uJhrZ"
      }
    },
    {
      "cell_type": "markdown",
      "source": [
        "# **Цель задания:**\n",
        "Изучить концепцию атаки по переносу, где противоречивые примеры, созданные для одной модели, используются для атаки на другую модель. Это задание требует создания нескольких моделей, генерации противоречивых примеров для одной модели и проверки их на другой модели."
      ],
      "metadata": {
        "id": "lLqehKvJJjmt"
      }
    },
    {
      "cell_type": "markdown",
      "source": [
        "##**Шаги выполнения:**"
      ],
      "metadata": {
        "id": "YCu13gz8Jvvd"
      }
    },
    {
      "cell_type": "markdown",
      "source": [
        "### **Шаг 1: Загружаем нужные для работы библиотеки**"
      ],
      "metadata": {
        "id": "lknJ05AwKD-N"
      }
    },
    {
      "cell_type": "code",
      "source": [
        "import tensorflow as tf\n",
        "from tensorflow.keras.datasets import mnist\n",
        "from tensorflow.keras.models import Sequential\n",
        "from tensorflow.keras.layers import Dense, Flatten, Conv2D, MaxPooling2D\n",
        "from tensorflow.keras.utils import to_categorical"
      ],
      "metadata": {
        "id": "Nr_Eb4ptKLtF"
      },
      "execution_count": 22,
      "outputs": []
    },
    {
      "cell_type": "markdown",
      "source": [
        "### **Шаг 2: Загрузка датасета MNIST и нормализация данных**"
      ],
      "metadata": {
        "id": "hvwFKvk9KSCX"
      }
    },
    {
      "cell_type": "code",
      "source": [
        "# Импортируем необходимые библиотеки\n",
        "import numpy as np\n",
        "from tensorflow.keras.datasets import mnist\n",
        "from tensorflow.keras.utils import to_categorical\n",
        "\n",
        "# Загружаем датасет MNIST\n",
        "(train_images, train_labels), (test_images, test_labels) = mnist.load_data()\n",
        "\n",
        "# Проверяем размеры загруженных данных\n",
        "print(f'Размер обучающего набора до нормализации: {train_images.shape} изображений')\n",
        "print(f'Размер тестового набора до нормализации: {test_images.shape} изображений')\n",
        "\n",
        "# Нормализуем данные, приводя значения пикселей к диапазону [0, 1]\n",
        "train_images = train_images.astype('float32') / 255.0\n",
        "test_images = test_images.astype('float32') / 255.0\n",
        "\n",
        "# Преобразуем метки в формат one-hot encoding\n",
        "train_labels = to_categorical(train_labels, num_classes=10)\n",
        "test_labels = to_categorical(test_labels, num_classes=10)\n",
        "\n",
        "# Выводим информацию о размере наборов данных после нормализации\n",
        "print(f'Размер обучающего набора после нормализации: {train_images.shape[0]} изображений')\n",
        "print(f'Размер тестового набора после нормализации: {test_images.shape[0]} изображений')"
      ],
      "metadata": {
        "colab": {
          "base_uri": "https://localhost:8080/"
        },
        "id": "MRv_zOE2KWgD",
        "outputId": "968920d6-d11f-4cc1-c806-698393e16409"
      },
      "execution_count": 23,
      "outputs": [
        {
          "output_type": "stream",
          "name": "stdout",
          "text": [
            "Размер обучающего набора до нормализации: (60000, 28, 28) изображений\n",
            "Размер тестового набора до нормализации: (10000, 28, 28) изображений\n",
            "Размер обучающего набора после нормализации: 60000 изображений\n",
            "Размер тестового набора после нормализации: 10000 изображений\n"
          ]
        }
      ]
    },
    {
      "cell_type": "markdown",
      "source": [
        "### **Шаг 3: Создаем две модели на датасете MNIST**\n",
        "1. Простую полносвязную сеть\n",
        "2. Свёрточную нейронную сеть (**CNN**)"
      ],
      "metadata": {
        "id": "FrHCffizJxi3"
      }
    },
    {
      "cell_type": "code",
      "execution_count": 24,
      "metadata": {
        "colab": {
          "base_uri": "https://localhost:8080/"
        },
        "id": "XiYsd5VWJXTV",
        "outputId": "86ad11c4-bc1e-4765-8706-6032b6b9ad32"
      },
      "outputs": [
        {
          "output_type": "stream",
          "name": "stdout",
          "text": [
            "Epoch 1/5\n",
            "\u001b[1m1875/1875\u001b[0m \u001b[32m━━━━━━━━━━━━━━━━━━━━\u001b[0m\u001b[37m\u001b[0m \u001b[1m6s\u001b[0m 3ms/step - accuracy: 0.8715 - loss: 0.4413\n",
            "Epoch 2/5\n",
            "\u001b[1m1875/1875\u001b[0m \u001b[32m━━━━━━━━━━━━━━━━━━━━\u001b[0m\u001b[37m\u001b[0m \u001b[1m6s\u001b[0m 3ms/step - accuracy: 0.9652 - loss: 0.1202\n",
            "Epoch 3/5\n",
            "\u001b[1m1875/1875\u001b[0m \u001b[32m━━━━━━━━━━━━━━━━━━━━\u001b[0m\u001b[37m\u001b[0m \u001b[1m5s\u001b[0m 2ms/step - accuracy: 0.9760 - loss: 0.0784\n",
            "Epoch 4/5\n",
            "\u001b[1m1875/1875\u001b[0m \u001b[32m━━━━━━━━━━━━━━━━━━━━\u001b[0m\u001b[37m\u001b[0m \u001b[1m7s\u001b[0m 3ms/step - accuracy: 0.9838 - loss: 0.0554\n",
            "Epoch 5/5\n",
            "\u001b[1m1875/1875\u001b[0m \u001b[32m━━━━━━━━━━━━━━━━━━━━\u001b[0m\u001b[37m\u001b[0m \u001b[1m5s\u001b[0m 2ms/step - accuracy: 0.9871 - loss: 0.0416\n",
            "\u001b[1m313/313\u001b[0m \u001b[32m━━━━━━━━━━━━━━━━━━━━\u001b[0m\u001b[37m\u001b[0m \u001b[1m1s\u001b[0m 1ms/step - accuracy: 0.9736 - loss: 0.0764\n"
          ]
        },
        {
          "output_type": "stream",
          "name": "stderr",
          "text": [
            "WARNING:absl:You are saving your model as an HDF5 file via `model.save()` or `keras.saving.save_model(model)`. This file format is considered legacy. We recommend using instead the native Keras format, e.g. `model.save('my_model.keras')` or `keras.saving.save_model(model, 'my_model.keras')`. \n"
          ]
        },
        {
          "output_type": "stream",
          "name": "stdout",
          "text": [
            "Test accuracy on clean images: 0.9787\n"
          ]
        }
      ],
      "source": [
        "import tensorflow as tf\n",
        "from tensorflow.keras.models import Sequential\n",
        "from tensorflow.keras.layers import Flatten, Dense\n",
        "\n",
        "# Проверяем наличие данных\n",
        "if train_images is None or test_images is None:\n",
        "    raise ValueError(\"Данные не загружены. Пожалуйста, загрузите данные перед обучением модели.\")\n",
        "\n",
        "# Создаем простую полносвязную модель\n",
        "model1 = Sequential([\n",
        "    Flatten(input_shape=(28, 28)),  # Преобразуем 2D-изображения в 1D\n",
        "    Dense(128, activation='relu'),   # Скрытый слой с 128 нейронами и активацией ReLU\n",
        "    Dense(10, activation='softmax')   # Выходной слой с 10 нейронами для классификации (по количеству классов)\n",
        "])\n",
        "\n",
        "# Компилируем модель\n",
        "model1.compile(optimizer='adam',\n",
        "               loss='categorical_crossentropy',\n",
        "               metrics=['accuracy'])\n",
        "\n",
        "# Обучаем модель на тренировочных данных\n",
        "model1.fit(train_images, train_labels, epochs=5)\n",
        "\n",
        "# Проверяем точность модели на тестовых данных\n",
        "test_loss, test_acc = model1.evaluate(test_images, test_labels)\n",
        "print(f'Test accuracy on clean images: {test_acc:.4f}')\n",
        "\n",
        "# Сохраняем модель в файл для дальнейшего использования\n",
        "model1.save('mnist_model_fc.h5')"
      ]
    },
    {
      "cell_type": "code",
      "source": [
        "import tensorflow as tf\n",
        "from tensorflow.keras.models import Sequential\n",
        "from tensorflow.keras.layers import Conv2D, MaxPooling2D, Flatten, Dense\n",
        "\n",
        "# Проверяем наличие данных\n",
        "if train_images is None or test_images is None:\n",
        "    raise ValueError(\"Данные не загружены. Пожалуйста, загрузите данные перед обучением модели.\")\n",
        "\n",
        "# Предобработка данных: добавляем размерность канала для изображений (28, 28, 1)\n",
        "train_images = train_images.reshape((train_images.shape[0], 28, 28, 1))\n",
        "test_images = test_images.reshape((test_images.shape[0], 28, 28, 1))\n",
        "\n",
        "# Создаем модель свёрточной нейронной сети\n",
        "model2 = Sequential([\n",
        "    Conv2D(32, (3, 3), activation='relu', input_shape=(28, 28, 1)),  # Свёрточный слой с 32 фильтрами\n",
        "    MaxPooling2D((2, 2)),                                             # Слой подвыборки\n",
        "    Flatten(),                                                        # Преобразование в одномерный вектор\n",
        "    Dense(128, activation='relu'),                                   # Полносвязный слой с 128 нейронами\n",
        "    Dense(10, activation='softmax')                                  # Выходной слой для классификации (10 классов)\n",
        "])\n",
        "\n",
        "# Компилируем модель\n",
        "model2.compile(optimizer='adam',\n",
        "               loss='categorical_crossentropy',\n",
        "               metrics=['accuracy'])\n",
        "\n",
        "# Обучаем модель на тренировочных данных\n",
        "model2.fit(train_images, train_labels, epochs=5)\n",
        "\n",
        "# Проверяем точность модели на тестовых данных\n",
        "test_loss, test_acc = model2.evaluate(test_images, test_labels)\n",
        "print(f'Test accuracy on clean images: {test_acc:.4f}')\n",
        "\n",
        "# Сохраняем модель в файл для дальнейшего использования\n",
        "model2.save('mnist_model_cnn.h5')"
      ],
      "metadata": {
        "colab": {
          "base_uri": "https://localhost:8080/"
        },
        "id": "ZFa0SRtOK6-Q",
        "outputId": "c8460a2d-1ddb-4d8e-b7a3-eff065f25f98"
      },
      "execution_count": 25,
      "outputs": [
        {
          "output_type": "stream",
          "name": "stdout",
          "text": [
            "Epoch 1/5\n",
            "\u001b[1m1875/1875\u001b[0m \u001b[32m━━━━━━━━━━━━━━━━━━━━\u001b[0m\u001b[37m\u001b[0m \u001b[1m38s\u001b[0m 20ms/step - accuracy: 0.9144 - loss: 0.2939\n",
            "Epoch 2/5\n",
            "\u001b[1m1875/1875\u001b[0m \u001b[32m━━━━━━━━━━━━━━━━━━━━\u001b[0m\u001b[37m\u001b[0m \u001b[1m41s\u001b[0m 19ms/step - accuracy: 0.9829 - loss: 0.0529\n",
            "Epoch 3/5\n",
            "\u001b[1m1875/1875\u001b[0m \u001b[32m━━━━━━━━━━━━━━━━━━━━\u001b[0m\u001b[37m\u001b[0m \u001b[1m37s\u001b[0m 20ms/step - accuracy: 0.9906 - loss: 0.0316\n",
            "Epoch 4/5\n",
            "\u001b[1m1875/1875\u001b[0m \u001b[32m━━━━━━━━━━━━━━━━━━━━\u001b[0m\u001b[37m\u001b[0m \u001b[1m40s\u001b[0m 19ms/step - accuracy: 0.9934 - loss: 0.0212\n",
            "Epoch 5/5\n",
            "\u001b[1m1875/1875\u001b[0m \u001b[32m━━━━━━━━━━━━━━━━━━━━\u001b[0m\u001b[37m\u001b[0m \u001b[1m41s\u001b[0m 19ms/step - accuracy: 0.9957 - loss: 0.0127\n",
            "\u001b[1m313/313\u001b[0m \u001b[32m━━━━━━━━━━━━━━━━━━━━\u001b[0m\u001b[37m\u001b[0m \u001b[1m2s\u001b[0m 5ms/step - accuracy: 0.9799 - loss: 0.0626\n"
          ]
        },
        {
          "output_type": "stream",
          "name": "stderr",
          "text": [
            "WARNING:absl:You are saving your model as an HDF5 file via `model.save()` or `keras.saving.save_model(model)`. This file format is considered legacy. We recommend using instead the native Keras format, e.g. `model.save('my_model.keras')` or `keras.saving.save_model(model, 'my_model.keras')`. \n"
          ]
        },
        {
          "output_type": "stream",
          "name": "stdout",
          "text": [
            "Test accuracy on clean images: 0.9847\n"
          ]
        }
      ]
    },
    {
      "cell_type": "markdown",
      "source": [
        "###**Шаг 4: Теория атаки по переносу**"
      ],
      "metadata": {
        "id": "t_7RyORaLf4a"
      }
    },
    {
      "cell_type": "markdown",
      "source": [
        "Атака по переносу — это метод, при котором противоречивые примеры, созданные для одной модели, применяются к другой модели. Это возможно, потому что модели часто имеют схожие слабости и могут совершать одинаковые ошибки на определенных данных, даже если они обучены на разных архитектурах.\n",
        "\n",
        "В этом задании мы создадим противоречивые примеры для первой модели с помощью **FGSM** и затем проверим, насколько эти примеры могут атаковать вторую модель."
      ],
      "metadata": {
        "id": "i3tJmhQ-L_wT"
      }
    },
    {
      "cell_type": "markdown",
      "source": [
        "###**Шаг 5: Реализация атаки FGSM на полносвязную модель**"
      ],
      "metadata": {
        "id": "tDpkZZZwMR8y"
      }
    },
    {
      "cell_type": "code",
      "source": [
        "import numpy as np\n",
        "import tensorflow as tf\n",
        "\n",
        "# Создаем функцию для реализации FGSM атаки\n",
        "def fgsm_attack(image, epsilon, gradient):\n",
        "    # Применяем знак градиента к изображению\n",
        "    perturbed_image = image + epsilon * np.sign(gradient)\n",
        "    # Обрезаем значения, чтобы они оставались в пределах [0, 1]\n",
        "    perturbed_image = np.clip(perturbed_image, 0, 1)\n",
        "    return perturbed_image\n",
        "\n",
        "# Функция для генерации противоречивых примеров\n",
        "def generate_adversarial_example(model, images, labels, epsilon):\n",
        "    adversarial_images = []\n",
        "\n",
        "    # Превращаем изображения в формат, подходящий для модели\n",
        "    for i in range(len(images)):\n",
        "        image = tf.convert_to_tensor(images[i].reshape((1, 28, 28, 1)), dtype=tf.float32)\n",
        "        label = labels[i]\n",
        "\n",
        "        # Преобразуем label (one-hot вектор) в индекс\n",
        "        if len(label.shape) > 1 and label.shape[1] > 1:\n",
        "            label = np.argmax(label)\n",
        "\n",
        "        label = tf.convert_to_tensor(label)\n",
        "\n",
        "        # Вычисляем градиент с использованием GradientTape\n",
        "        with tf.GradientTape() as tape:\n",
        "            tape.watch(image)\n",
        "            prediction = model(image)\n",
        "            loss = tf.keras.losses.categorical_crossentropy(label[None], prediction)\n",
        "\n",
        "        gradient = tape.gradient(loss, image)\n",
        "\n",
        "        # Применяем FGSM атаку\n",
        "        adversarial_image = fgsm_attack(image.numpy(), epsilon, gradient.numpy())\n",
        "        adversarial_images.append(np.reshape(adversarial_image, (28, 28, 1)))\n",
        "\n",
        "    return np.array(adversarial_images)\n",
        "\n",
        "# Параметр атаки\n",
        "epsilon = 0.1\n",
        "\n",
        "# Создаем противоречивые изображения для простой полносвязной модели\n",
        "adversarial_example = generate_adversarial_example(model1, test_images, test_labels, epsilon)\n",
        "\n",
        "# Выводим информацию о созданных противоречивых изображениях\n",
        "print(f'Создано {len(adversarial_example)} противоречивых изображений.')"
      ],
      "metadata": {
        "id": "k7tA6vARMXsK",
        "colab": {
          "base_uri": "https://localhost:8080/"
        },
        "outputId": "cbd72dca-0641-4f7d-c711-424e66836cb0"
      },
      "execution_count": 26,
      "outputs": [
        {
          "output_type": "stream",
          "name": "stdout",
          "text": [
            "Создано 10000 противоречивых изображений.\n"
          ]
        }
      ]
    },
    {
      "cell_type": "markdown",
      "source": [
        "###**Шаг 6: Визуализация результатов проведенной атаки на полносвязную модель:**"
      ],
      "metadata": {
        "id": "WlVlcIqJM0mp"
      }
    },
    {
      "cell_type": "code",
      "source": [
        "import matplotlib.pyplot as plt\n",
        "import numpy as np\n",
        "\n",
        "# Указываем количество изображений для отображения\n",
        "num_images = 5\n",
        "\n",
        "# Выбираем случайные индексы из тестового набора\n",
        "random_indices = np.random.choice(len(test_images), num_images, replace=False)\n",
        "\n",
        "# Создаем фигуру для отображения изображений\n",
        "plt.figure(figsize=(15, 6))\n",
        "\n",
        "for i, idx in enumerate(random_indices):\n",
        "    # Отображаем оригинальное изображение\n",
        "    plt.subplot(2, num_images, i + 1)\n",
        "    plt.title(\"Оригинал изображения\")\n",
        "    plt.imshow(test_images[idx], cmap=\"gray\")\n",
        "    plt.axis('off')\n",
        "\n",
        "    # Отображаем противоречивое изображение\n",
        "    plt.subplot(2, num_images, i + 1 + num_images)\n",
        "    plt.title(\"Противоречивое изображение\")\n",
        "    plt.imshow(adversarial_example[i].reshape(28, 28), cmap=\"gray\")  # Используем i вместо idx для доступа к adversarial_example\n",
        "    plt.axis('off')\n",
        "\n",
        "# Настраиваем компоновку и отображаем график\n",
        "plt.tight_layout()\n",
        "plt.show()"
      ],
      "metadata": {
        "colab": {
          "base_uri": "https://localhost:8080/",
          "height": 611
        },
        "id": "bCSUyizKNBAR",
        "outputId": "45e38244-3a21-4476-dcb8-4a2d74329156"
      },
      "execution_count": 27,
      "outputs": [
        {
          "output_type": "display_data",
          "data": {
            "text/plain": [
              "<Figure size 1500x600 with 10 Axes>"
            ],
            "image/png": "[encoded data removed]"
          },
          "metadata": {}
        }
      ]
    },
    {
      "cell_type": "markdown",
      "source": [
        "###**Шаг 7: Оценка противоречивых примеров на обеих моделях**"
      ],
      "metadata": {
        "id": "PoG1gDc8OEFM"
      }
    },
    {
      "cell_type": "code",
      "source": [
        "# Оценим полносвязную модель на противоречивых примерах\n",
        "adversarial_loss1, adversarial_acc1 = model1.evaluate(\n",
        "    adversarial_example.reshape(-1, 28, 28),  # Изменяем форму массива для соответствия входу модели\n",
        "    test_labels\n",
        ")\n",
        "\n",
        "# Оценим свёрточную модель на противоречивых примерах\n",
        "adversarial_loss2, adversarial_acc2 = model2.evaluate(\n",
        "    adversarial_example.reshape(-1, 28, 28, 1),  # Добавляем размерность канала для свёрточной модели\n",
        "    test_labels\n",
        ")\n",
        "\n",
        "# Выводим результаты оценки\n",
        "print(f'Точность полносвязной модели: {adversarial_acc1:.4f}')\n",
        "print(f'Точность свёрточной модели: {adversarial_acc2:.4f}')"
      ],
      "metadata": {
        "colab": {
          "base_uri": "https://localhost:8080/"
        },
        "id": "-enobZB0OHBC",
        "outputId": "ea3e6f5a-f32f-4040-bd6b-b55666b19cb3"
      },
      "execution_count": 28,
      "outputs": [
        {
          "output_type": "stream",
          "name": "stdout",
          "text": [
            "\u001b[1m313/313\u001b[0m \u001b[32m━━━━━━━━━━━━━━━━━━━━\u001b[0m\u001b[37m\u001b[0m \u001b[1m0s\u001b[0m 1ms/step - accuracy: 0.1044 - loss: 6.6395\n",
            "\u001b[1m313/313\u001b[0m \u001b[32m━━━━━━━━━━━━━━━━━━━━\u001b[0m\u001b[37m\u001b[0m \u001b[1m2s\u001b[0m 5ms/step - accuracy: 0.9505 - loss: 0.1628\n",
            "Точность полносвязной модели: 0.1368\n",
            "Точность свёрточной модели: 0.9574\n"
          ]
        }
      ]
    },
    {
      "cell_type": "markdown",
      "source": [
        "Оба значения указывают на то, что полносвязная модель имеет низкую точность при классификации противоречивых изображений, созданных с помощью атаки FGSM.\n",
        "Низкая точность (9.71% и 13.68%) свидетельствует о высокой уязвимости модели к адверсариальным атакам.\n",
        "\n",
        "Полносвязные модели, как правило, менее устойчивы к небольшим изменениям входных данных. Это может быть связано с их архитектурой, которая не учитывает пространственные зависимости между пикселями изображений так эффективно, как свёрточные сети."
      ],
      "metadata": {
        "id": "zuGUhqSSOWNw"
      }
    },
    {
      "cell_type": "markdown",
      "source": [
        "###**Шаг 8: Перейдем к реализации атаки FGSM на свёрточную модель**"
      ],
      "metadata": {
        "id": "S6hptMkUPcYc"
      }
    },
    {
      "cell_type": "code",
      "source": [
        "# Создаём противоречивые изображения для свёрточной модели:\n",
        "adversarial_example1 = generate_adversarial_example(model2, test_images, test_labels, epsilon)"
      ],
      "metadata": {
        "id": "pDOJMB-PPmVA"
      },
      "execution_count": 29,
      "outputs": []
    },
    {
      "cell_type": "markdown",
      "source": [
        "###**Шаг 9: Визуализация результатов проведенной атаки на свёрточную модель:**"
      ],
      "metadata": {
        "id": "v7ZLZ2a6P5CC"
      }
    },
    {
      "cell_type": "code",
      "source": [
        "# Указываем количество изображений для отображения:\n",
        "num_images = 5\n",
        "# ВЫбираем случайные индексы:\n",
        "random_indices = np.random.choice(len(test_images), num_images, replace=False)\n",
        "\n",
        "# Создаём фигуры:\n",
        "plt.figure(figsize=(15, 6))\n",
        "\n",
        "\n",
        "for i, idx in enumerate(random_indices):\n",
        "    plt.subplot(2, num_images, i + 1)\n",
        "    plt.title(\"Оригинал изображения\")\n",
        "    plt.imshow(test_images[idx], cmap=\"gray\")\n",
        "    plt.axis('off')\n",
        "\n",
        "    plt.subplot(2, num_images, i + 1 + num_images)\n",
        "    plt.title(\"Противоречивое изображение\")\n",
        "    plt.imshow(adversarial_example1[idx].reshape(28, 28), cmap=\"gray\")\n",
        "    plt.axis('off')\n",
        "\n",
        "plt.tight_layout()\n",
        "plt.show()"
      ],
      "metadata": {
        "colab": {
          "base_uri": "https://localhost:8080/",
          "height": 611
        },
        "id": "dux4XBaBQD1K",
        "outputId": "5d006524-d4f0-4e5c-a556-be5474e89bff"
      },
      "execution_count": 30,
      "outputs": [
        {
          "output_type": "display_data",
          "data": {
            "text/plain": [
              "<Figure size 1500x600 with 10 Axes>"
            ],
            "image/png": "[encoded data removed]"
          },
          "metadata": {}
        }
      ]
    },
    {
      "cell_type": "markdown",
      "source": [
        "###**Шаг 10: Оценка противоречивых примеров на обеих моделях**"
      ],
      "metadata": {
        "id": "ryiNjPJJQnjw"
      }
    },
    {
      "cell_type": "code",
      "source": [
        "# Оценим полносвязную модель на противоречивых примерах\n",
        "adversarial_loss1, adversarial_acc1 = model1.evaluate(\n",
        "    adversarial_example.reshape(-1, 28, 28),  # Для полносвязной модели\n",
        "    test_labels\n",
        ")\n",
        "\n",
        "# Оценим свёрточную модель на противоречивых примерах\n",
        "adversarial_loss2, adversarial_acc2 = model2.evaluate(\n",
        "    adversarial_example.reshape(-1, 28, 28, 1),  # Добавляем размерность канала для свёрточной модели\n",
        "    test_labels\n",
        ")\n",
        "\n",
        "# Выводим результаты оценки\n",
        "print(f'Точность полносвязной модели: {adversarial_acc1:.4f}')\n",
        "print(f'Точность свёрточной модели: {adversarial_acc2:.4f}')"
      ],
      "metadata": {
        "colab": {
          "base_uri": "https://localhost:8080/"
        },
        "id": "R22j_gmoQsRs",
        "outputId": "b546555d-85fc-411a-8747-56f543e41d53"
      },
      "execution_count": 33,
      "outputs": [
        {
          "output_type": "stream",
          "name": "stdout",
          "text": [
            "\u001b[1m313/313\u001b[0m \u001b[32m━━━━━━━━━━━━━━━━━━━━\u001b[0m\u001b[37m\u001b[0m \u001b[1m0s\u001b[0m 1ms/step - accuracy: 0.1044 - loss: 6.6395\n",
            "\u001b[1m313/313\u001b[0m \u001b[32m━━━━━━━━━━━━━━━━━━━━\u001b[0m\u001b[37m\u001b[0m \u001b[1m2s\u001b[0m 5ms/step - accuracy: 0.9505 - loss: 0.1628\n",
            "Точность полносвязной модели: 0.1368\n",
            "Точность свёрточной модели: 0.9574\n"
          ]
        }
      ]
    },
    {
      "cell_type": "markdown",
      "source": [
        "Точность полносвязной модели: 0.1368 (или 13.68%)\n",
        "Это значение указывает на то, что полносвязная модель смогла правильно классифицировать только около 13.68% противоречивых изображений, созданных с помощью атаки FGSM.\n",
        "Хотя это значение выше, чем в предыдущем тесте (где точность была 9.71%), оно все еще указывает на высокую уязвимость модели к адверсариальным атакам. Полносвязные модели, как правило, менее устойчивы к небольшим изменениям в входных данных из-за их архитектуры и способа обработки информации.\n",
        "Точность свёрточной модели: 0.9574 (или 95.74%)\n",
        "Свёрточная модель показала значительно более высокую точность в 95.74%. Это означает, что она смогла правильно классифицировать почти все противоречивые изображения.\n",
        "Высокая точность свёрточной модели подтверждает её устойчивость к атакам типа FGSM. Свёрточные нейронные сети (CNN) лучше справляются с изменениями в изображениях благодаря своей способности выделять пространственные признаки и учитывать локальные зависимости."
      ],
      "metadata": {
        "id": "qr7e72oTR0Pw"
      }
    }
  ]
}
