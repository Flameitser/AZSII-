{
  "nbformat": 4,
  "nbformat_minor": 0,
  "metadata": {
    "colab": {
      "provenance": []
    },
    "kernelspec": {
      "name": "python3",
      "display_name": "Python 3"
    },
    "language_info": {
      "name": "python"
    }
  },
  "cells": [
    {
      "cell_type": "markdown",
      "source": [
        "# **Практика 8: Методы защиты от атак на модели ИИ**"
      ],
      "metadata": {
        "id": "znc6ymXm7GNX"
      }
    },
    {
      "cell_type": "markdown",
      "source": [
        "Выполнил студент 2 курса группы: **ББМО-02-23**\n",
        "\n",
        "ФИО: **Курченко Иван Дмитриевич**"
      ],
      "metadata": {
        "id": "P4v2NjMR7LFC"
      }
    },
    {
      "cell_type": "markdown",
      "source": [
        "# **Цель задания:**\n",
        "Изучить методы защиты моделей ИИ от различных атак, включая методы защиты на уровне данных,моделирования и обучения. Реализовать эти методы и проверить их эффективность против атак, изученных ранее."
      ],
      "metadata": {
        "id": "7DoowcjQ7MxO"
      }
    },
    {
      "cell_type": "markdown",
      "source": [
        "##**Шаги выполнения:**"
      ],
      "metadata": {
        "id": "fB4a1Sl77fky"
      }
    },
    {
      "cell_type": "markdown",
      "source": [
        "### **Шаг 1: Защита с помощью Adversarial Training**"
      ],
      "metadata": {
        "id": "bf2WKFJz7htU"
      }
    },
    {
      "cell_type": "markdown",
      "source": [
        " **Adversarial Training** — это метод защиты, который заключается в том, чтобы обучать модель на противоречивых примерах. Этот метод помогает модели научиться быть более устойчивой к атакам, так как она сталкивается с противоречивыми примерами на этапе обучения."
      ],
      "metadata": {
        "id": "X_bIA84t7m5g"
      }
    },
    {
      "cell_type": "code",
      "execution_count": 5,
      "metadata": {
        "colab": {
          "base_uri": "https://localhost:8080/"
        },
        "id": "Jxar0m687BRV",
        "outputId": "e018cf06-7a37-4784-9acf-3ecaa8ffc949"
      },
      "outputs": [
        {
          "output_type": "stream",
          "name": "stdout",
          "text": [
            "Epoch 1/5\n",
            "Epoch 2/5\n",
            "Epoch 3/5\n",
            "Epoch 4/5\n",
            "Epoch 5/5\n"
          ]
        },
        {
          "output_type": "stream",
          "name": "stderr",
          "text": [
            "WARNING:absl:You are saving your model as an HDF5 file via `model.save()` or `keras.saving.save_model(model)`. This file format is considered legacy. We recommend using instead the native Keras format, e.g. `model.save('my_model.keras')` or `keras.saving.save_model(model, 'my_model.keras')`. \n"
          ]
        }
      ],
      "source": [
        "import tensorflow as tf\n",
        "import numpy as np\n",
        "from tensorflow.keras.datasets import mnist\n",
        "\n",
        "# Загрузка данных MNIST\n",
        "(train_images, train_labels), (test_images, test_labels) = mnist.load_data()\n",
        "\n",
        "# Нормализация данных\n",
        "train_images = train_images.astype(np.float32) / 255.0\n",
        "test_images = test_images.astype(np.float32) / 255.0\n",
        "\n",
        "# Преобразование меток в one-hot encoding\n",
        "train_labels = tf.keras.utils.to_categorical(train_labels, num_classes=10)\n",
        "test_labels = tf.keras.utils.to_categorical(test_labels, num_classes=10)\n",
        "\n",
        "# Уменьшаем количество обучающих изображений до 1000\n",
        "train_images = train_images[:1000]\n",
        "train_labels = train_labels[:1000]\n",
        "\n",
        "# Функция FGSM атаки\n",
        "def fgsm_attack(image, epsilon, gradient):\n",
        "    perturbation = epsilon * np.sign(gradient)\n",
        "    adversarial_image = image + perturbation\n",
        "    adversarial_image = np.clip(adversarial_image, 0, 1)\n",
        "    return adversarial_image\n",
        "\n",
        "# Функция для генерации противоречивых примеров\n",
        "def generate_adversarial_examples(model, images, labels, epsilon):\n",
        "    adversarial_images = []\n",
        "    for i in range(len(images)):\n",
        "        image = tf.convert_to_tensor(images[i].reshape((1, 28, 28, 1)), dtype=tf.float32)\n",
        "        label = tf.convert_to_tensor(labels[i].reshape((1, 10)), dtype=tf.float32)\n",
        "\n",
        "        with tf.GradientTape() as tape:\n",
        "            tape.watch(image)\n",
        "            prediction = model(image)\n",
        "            loss = tf.keras.losses.categorical_crossentropy(label, prediction)\n",
        "\n",
        "        gradient = tape.gradient(loss, image)\n",
        "        adversarial_image = fgsm_attack(image.numpy(), epsilon, gradient.numpy())\n",
        "        adversarial_images.append(adversarial_image.reshape(28, 28))\n",
        "\n",
        "    return np.array(adversarial_images)\n",
        "\n",
        "# Создание модели\n",
        "def create_model():\n",
        "    model = tf.keras.Sequential([\n",
        "        tf.keras.layers.Flatten(input_shape=(28, 28)),\n",
        "        tf.keras.layers.Dense(128, activation='relu'),\n",
        "        tf.keras.layers.Dense(10, activation='softmax')\n",
        "    ])\n",
        "    model.compile(optimizer='adam', loss='categorical_crossentropy', metrics=['accuracy'])\n",
        "    return model\n",
        "\n",
        "# Обучение модели с противоречивыми примерами\n",
        "def adversarial_training(model, train_images, train_labels, epsilon):\n",
        "    for epoch in range(5):\n",
        "        print(f\"Epoch {epoch + 1}/{5}\")\n",
        "        for i in range(0, len(train_images), 32):\n",
        "            batch_images = train_images[i:i + 32]\n",
        "            batch_labels = train_labels[i:i + 32]\n",
        "\n",
        "            # Генерация противоречивых примеров для текущей партии данных\n",
        "            adversarial_images = generate_adversarial_examples(model, batch_images, batch_labels, epsilon)\n",
        "\n",
        "            # Объединение оригинальных и противоречивых примеров\n",
        "            combined_images = np.concatenate([batch_images, adversarial_images], axis=0)\n",
        "            combined_labels = np.concatenate([batch_labels, batch_labels], axis=0)\n",
        "\n",
        "            # Обучение на комбинированных данных\n",
        "            model.train_on_batch(combined_images, combined_labels)\n",
        "\n",
        "# Инициализация модели\n",
        "model = create_model()\n",
        "\n",
        "# Тренировка модели с защитой на противоречивых примерах\n",
        "adversarial_training(model, train_images, train_labels, epsilon=0.1)\n",
        "\n",
        "# Сохранение защищенной модели\n",
        "model.save('Adversarial_model.h5')"
      ]
    },
    {
      "cell_type": "markdown",
      "source": [
        "###**Шаг 2: Градиентная маскировка (Gradient Masking)**"
      ],
      "metadata": {
        "id": "EfwtuWylD8i5"
      }
    },
    {
      "cell_type": "markdown",
      "source": [
        " **Gradient Masking** — это метод защиты, который затрудняет доступ к градиентам модели для атак. Он используется для уменьшения информации, доступной для атакующих, и усложнения поиска направленных изменений."
      ],
      "metadata": {
        "id": "QUuEQKjyD_gR"
      }
    },
    {
      "cell_type": "code",
      "source": [
        "import tensorflow as tf\n",
        "from tensorflow.keras.layers import Activation\n",
        "from tensorflow.keras.datasets import mnist\n",
        "from tensorflow.keras.utils import to_categorical\n",
        "# Загрузка и подготовка данных:\n",
        "(train_images, train_labels), (test_images, test_labels) = mnist.load_data()\n",
        "# Нормализация данных:\n",
        "train_images = train_images / 255.0\n",
        "test_images = test_images / 255.0\n",
        "# Преобразование меток в one-hot encoding:\n",
        "train_labels = to_categorical(train_labels, 10)\n",
        "test_labels = to_categorical(test_labels, 10)\n",
        "# Обновление модели для градиентной маскировки:\n",
        "def create_masked_model():\n",
        "    model = tf.keras.Sequential([\n",
        "        tf.keras.layers.Flatten(input_shape=(28, 28)),\n",
        "        tf.keras.layers.Dense(128, activation='relu'),\n",
        "        tf.keras.layers.Dense(10),\n",
        "        Activation('softplus')])\n",
        "    model.compile(optimizer='adam', loss='categorical_crossentropy', metrics=['accuracy'])\n",
        "    return model\n",
        "# Обучение модели с градиентной маскировкой:\n",
        "masked_model = create_masked_model()\n",
        "masked_model.fit(train_images, train_labels, epochs=5)\n",
        "# Сохранение модели с градиентной маскировкой:\n",
        "masked_model.save('Gradient_model.h5')"
      ],
      "metadata": {
        "colab": {
          "base_uri": "https://localhost:8080/"
        },
        "id": "0Y5nG7OQEDd5",
        "outputId": "4c5f07df-1564-433c-82fd-e86451324564"
      },
      "execution_count": 6,
      "outputs": [
        {
          "output_type": "stream",
          "name": "stdout",
          "text": [
            "Epoch 1/5\n",
            "\u001b[1m1875/1875\u001b[0m \u001b[32m━━━━━━━━━━━━━━━━━━━━\u001b[0m\u001b[37m\u001b[0m \u001b[1m9s\u001b[0m 4ms/step - accuracy: 0.8717 - loss: 0.4719\n",
            "Epoch 2/5\n",
            "\u001b[1m1875/1875\u001b[0m \u001b[32m━━━━━━━━━━━━━━━━━━━━\u001b[0m\u001b[37m\u001b[0m \u001b[1m6s\u001b[0m 3ms/step - accuracy: 0.9620 - loss: 0.1285\n",
            "Epoch 3/5\n",
            "\u001b[1m1875/1875\u001b[0m \u001b[32m━━━━━━━━━━━━━━━━━━━━\u001b[0m\u001b[37m\u001b[0m \u001b[1m8s\u001b[0m 4ms/step - accuracy: 0.9745 - loss: 0.0857\n",
            "Epoch 4/5\n",
            "\u001b[1m1875/1875\u001b[0m \u001b[32m━━━━━━━━━━━━━━━━━━━━\u001b[0m\u001b[37m\u001b[0m \u001b[1m8s\u001b[0m 3ms/step - accuracy: 0.9796 - loss: 0.0643\n",
            "Epoch 5/5\n",
            "\u001b[1m1875/1875\u001b[0m \u001b[32m━━━━━━━━━━━━━━━━━━━━\u001b[0m\u001b[37m\u001b[0m \u001b[1m10s\u001b[0m 3ms/step - accuracy: 0.9855 - loss: 0.0495\n"
          ]
        },
        {
          "output_type": "stream",
          "name": "stderr",
          "text": [
            "WARNING:absl:You are saving your model as an HDF5 file via `model.save()` or `keras.saving.save_model(model)`. This file format is considered legacy. We recommend using instead the native Keras format, e.g. `model.save('my_model.keras')` or `keras.saving.save_model(model, 'my_model.keras')`. \n"
          ]
        }
      ]
    },
    {
      "cell_type": "markdown",
      "source": [
        "###**Шаг 3: Регуляризация и нормализация для повышения устойчивости**"
      ],
      "metadata": {
        "id": "PwfCXADMEIme"
      }
    },
    {
      "cell_type": "markdown",
      "source": [
        "Использование таких методов, как **L2-регуляризация**, **дропаут** и **нормализация батчей**, может помочь улучшить устойчивость модели к атакам."
      ],
      "metadata": {
        "id": "wj6Eb_IVEKig"
      }
    },
    {
      "cell_type": "code",
      "source": [
        "# Модель с регуляризацией и нормализацией:\n",
        "def create_regularized_model():\n",
        " model = tf.keras.Sequential([\n",
        " tf.keras.layers.Flatten(input_shape=(28, 28)),\n",
        " tf.keras.layers.Dense(128, activation='relu',\n",
        "kernel_regularizer=tf.keras.regularizers.l2(0.01)),\n",
        " tf.keras.layers.Dropout(0.5),tf.keras.layers.BatchNormalization(),\n",
        " tf.keras.layers.Dense(10, activation='softmax')])\n",
        " model.compile(optimizer='adam', loss='categorical_crossentropy',\n",
        "metrics=['accuracy'])\n",
        " return model\n",
        "# Обучение модели с регуляризацией и нормализацией:\n",
        "regularized_model = create_regularized_model()\n",
        "regularized_model.fit(train_images, train_labels, epochs=5)\n",
        "# Сохранение модели с регуляризацией:\n",
        "regularized_model.save('Regularized_model.h5')"
      ],
      "metadata": {
        "colab": {
          "base_uri": "https://localhost:8080/"
        },
        "id": "CvZ0M_YUETmp",
        "outputId": "095e70b5-961e-4b06-e6e2-e7d647615d76"
      },
      "execution_count": 7,
      "outputs": [
        {
          "output_type": "stream",
          "name": "stdout",
          "text": [
            "Epoch 1/5\n",
            "\u001b[1m1875/1875\u001b[0m \u001b[32m━━━━━━━━━━━━━━━━━━━━\u001b[0m\u001b[37m\u001b[0m \u001b[1m13s\u001b[0m 6ms/step - accuracy: 0.7928 - loss: 1.3243\n",
            "Epoch 2/5\n",
            "\u001b[1m1875/1875\u001b[0m \u001b[32m━━━━━━━━━━━━━━━━━━━━\u001b[0m\u001b[37m\u001b[0m \u001b[1m18s\u001b[0m 5ms/step - accuracy: 0.8694 - loss: 0.6288\n",
            "Epoch 3/5\n",
            "\u001b[1m1875/1875\u001b[0m \u001b[32m━━━━━━━━━━━━━━━━━━━━\u001b[0m\u001b[37m\u001b[0m \u001b[1m10s\u001b[0m 5ms/step - accuracy: 0.8665 - loss: 0.6271\n",
            "Epoch 4/5\n",
            "\u001b[1m1875/1875\u001b[0m \u001b[32m━━━━━━━━━━━━━━━━━━━━\u001b[0m\u001b[37m\u001b[0m \u001b[1m8s\u001b[0m 4ms/step - accuracy: 0.8679 - loss: 0.6145\n",
            "Epoch 5/5\n",
            "\u001b[1m1875/1875\u001b[0m \u001b[32m━━━━━━━━━━━━━━━━━━━━\u001b[0m\u001b[37m\u001b[0m \u001b[1m9s\u001b[0m 5ms/step - accuracy: 0.8635 - loss: 0.6269\n"
          ]
        },
        {
          "output_type": "stream",
          "name": "stderr",
          "text": [
            "WARNING:absl:You are saving your model as an HDF5 file via `model.save()` or `keras.saving.save_model(model)`. This file format is considered legacy. We recommend using instead the native Keras format, e.g. `model.save('my_model.keras')` or `keras.saving.save_model(model, 'my_model.keras')`. \n"
          ]
        }
      ]
    },
    {
      "cell_type": "markdown",
      "source": [
        "###**Шаг 4: Оценка моделей на противоречивых примерах**"
      ],
      "metadata": {
        "id": "tZgSZns6EY_m"
      }
    },
    {
      "cell_type": "markdown",
      "source": [
        "Теперь проверим эффективность всех защитных методов на атакованных данных, созданных с помощью **FGSM** и других методов, таких как **PGD** или **GAN**."
      ],
      "metadata": {
        "id": "QDBXiQ3xEZsh"
      }
    },
    {
      "cell_type": "code",
      "source": [
        "# Загрузка атакованной модели:\n",
        "protected_model = tf.keras.models.load_model('Adversarial_model.h5')\n",
        "# Генерация противоречивых примеров для тестовых данных:\n",
        "adversarial_test_images = generate_adversarial_examples(protected_model, test_images, test_labels, epsilon=0.1)\n",
        "# Оценка модели с Adversarial Training:\n",
        "print(\"Adversarially Trained Model Accuracy on Adversarial Examples:\")\n",
        "adv_loss, adv_acc = protected_model.evaluate(adversarial_test_images, test_labels, verbose=1)\n",
        "# Оценка модели с Gradient Masking:\n",
        "print(\"Masked Model Accuracy on Adversarial Examples:\")\n",
        "masked_loss, masked_acc = masked_model.evaluate(adversarial_test_images, test_labels, verbose=1)\n",
        "# Оценка модели с Регуляризацией и нормализацией:\n",
        "print(\"Regularized Model Accuracy on Adversarial Examples:\")\n",
        "reg_loss, reg_acc = regularized_model.evaluate(adversarial_test_images, test_labels, verbose=1)"
      ],
      "metadata": {
        "colab": {
          "base_uri": "https://localhost:8080/"
        },
        "id": "Nm_kM7RIEe0Q",
        "outputId": "d4c48968-7086-46b0-9c6b-bad7dbaf9c9b"
      },
      "execution_count": 8,
      "outputs": [
        {
          "output_type": "stream",
          "name": "stderr",
          "text": [
            "WARNING:absl:Compiled the loaded model, but the compiled metrics have yet to be built. `model.compile_metrics` will be empty until you train or evaluate the model.\n"
          ]
        },
        {
          "output_type": "stream",
          "name": "stdout",
          "text": [
            "Adversarially Trained Model Accuracy on Adversarial Examples:\n",
            "\u001b[1m313/313\u001b[0m \u001b[32m━━━━━━━━━━━━━━━━━━━━\u001b[0m\u001b[37m\u001b[0m \u001b[1m1s\u001b[0m 2ms/step - accuracy: 0.4935 - loss: 1.4711\n",
            "Masked Model Accuracy on Adversarial Examples:\n",
            "\u001b[1m313/313\u001b[0m \u001b[32m━━━━━━━━━━━━━━━━━━━━\u001b[0m\u001b[37m\u001b[0m \u001b[1m1s\u001b[0m 2ms/step - accuracy: 0.6907 - loss: 0.9749\n",
            "Regularized Model Accuracy on Adversarial Examples:\n",
            "\u001b[1m313/313\u001b[0m \u001b[32m━━━━━━━━━━━━━━━━━━━━\u001b[0m\u001b[37m\u001b[0m \u001b[1m1s\u001b[0m 2ms/step - accuracy: 0.6742 - loss: 1.1294\n"
          ]
        }
      ]
    },
    {
      "cell_type": "markdown",
      "source": [
        "### **Результаты**"
      ],
      "metadata": {
        "id": "nxZZiQ9rLiqh"
      }
    },
    {
      "cell_type": "markdown",
      "source": [
        "Adversarial Training (Точность: 49.35%, Потери: 1.4711): Модель, обученная на противоречивых примерах, демонстрирует умеренную устойчивость к FGSM-атакам. Хотя её точность выше, чем у модели с градиентной маскировкой, потери остаются высокими, что указывает на эффективность Adversarial Training, но также на его ограниченность в отношении более сложных или неизвестных атак.\n",
        "\n",
        "\n",
        "Masked Model (Точность: 69.07%, Потери: 0.9749): Модель с градиентной маскировкой показывает более высокую точность и более низкие потери по сравнению с Adversarial Training. Это подтверждает, что Gradient Masking усложняет создание атак, но не устраняет их полностью. Метод может оказаться уязвимым к адаптивным атакам, которые могут обойти градиентные ограничения.\n",
        "Regularized Model (Точность: 67.42%, Потери: 1.1294): Модель с регуляризацией достигает хорошей точности среди всех методов защиты, однако её потери остаются на высоком уровне. Это свидетельствует о её способности лучше классифицировать атакованные примеры, но за счет высоких потерь. Данный метод может быть полезен в ситуациях, где критична точность, но не требуется строгое подавление атак.\n",
        "\n",
        "**Итоговые выводы**\n",
        "\n",
        "Лучший результат по точности: Модель с градиентной маскировкой достигает 69.07%. Тем не менее, высокие потери указывают на то, что модель не полностью устойчива к FGSM-атакам.\n",
        "\n",
        "Умеренная устойчивость: Adversarial Training предлагает сбалансированную защиту с точностью 49.35% и умеренными потерями.\n",
        "\n",
        "Ограниченная эффективность: Gradient Masking демонстрирует лучшую точность (69.07%) и более низкие потери (0.9749) по сравнению с Adversarial Training.\n",
        "Эти результаты подчеркивают важность выбора правильного метода защиты в зависимости от требований к точности и устойчивости к атакам в различных приложениях машинного обучения."
      ],
      "metadata": {
        "id": "3xcaLLKaL0wN"
      }
    }
  ]
}